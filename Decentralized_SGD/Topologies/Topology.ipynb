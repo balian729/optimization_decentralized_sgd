{
 "cells": [
  {
   "cell_type": "code",
   "execution_count": 2,
   "metadata": {},
   "outputs": [],
   "source": [
    "import networkx as nx\n",
    "import sys\n",
    "\n",
    "def fully_connected(nodes,path):\n",
    "\n",
    "\tgraph = nx.complete_graph(nodes)\n",
    "\tedges = [e for e in graph.edges()]\n",
    "\twrite_topology(nodes,edges,'Full',path)\n",
    "\t\n",
    "\n",
    "def star(nodes,path):\n",
    "\tgraph = nx.star_graph(nodes)\n",
    "\tedges = [e for e in graph.edges()]\n",
    "\twrite_topology(nodes+1,edges,'Star',path)\n",
    "\n",
    "def ring(nodes,path):\n",
    "\tgraph = nx.cycle_graph(nodes)\n",
    "\tedges = [e for e in graph.edges()]\n",
    "\twrite_topology(nodes,edges,'Ring',path)\n",
    "\n",
    "def wheel(nodes,path):\n",
    "\tgraph = nx.wheel_graph(nodes)\n",
    "\tedges = [e for e in graph.edges()]\n",
    "\twrite_topology(nodes,edges,'Wheel',path)\n",
    "\n",
    "def random(nodes,path):\n",
    "\tgraph = nx.gnm_random_graph(nodes,nodes)\n",
    "\tedges = [e for e in graph.edges()]\n",
    "\twrite_topology(nodes,edges,'Random',path)\n",
    "\n",
    "def write_topology(nodes,edges,topoName,path):\n",
    "\n",
    "\tfileName = path + topoName + str(nodes) + \".txt\"\n",
    "\tf = open(fileName,'w') \n",
    "\tfor i in edges:\n",
    "\t\tf.write(str(i[0]) + \" \" + str(i[1]) + \"\\n\")\n",
    "\tf.close()\n",
    "\n",
    "def generate_and_write(nodes,path):\n",
    "\n",
    "\tfully_connected(nodes,path)\n",
    "\tstar(nodes-1,path)\n",
    "\tring(nodes,path)\n",
    "\twheel(nodes,path)\n",
    "\trandom(nodes,path)\n",
    "\n",
    "\n",
    "nodes = 25\n",
    "generate_and_write(int(nodes),'./')"
   ]
  },
  {
   "cell_type": "code",
   "execution_count": null,
   "metadata": {},
   "outputs": [],
   "source": []
  }
 ],
 "metadata": {
  "kernelspec": {
   "display_name": "Python 3",
   "language": "python",
   "name": "python3"
  },
  "language_info": {
   "codemirror_mode": {
    "name": "ipython",
    "version": 3
   },
   "file_extension": ".py",
   "mimetype": "text/x-python",
   "name": "python",
   "nbconvert_exporter": "python",
   "pygments_lexer": "ipython3",
   "version": "3.10.11"
  }
 },
 "nbformat": 4,
 "nbformat_minor": 2
}
